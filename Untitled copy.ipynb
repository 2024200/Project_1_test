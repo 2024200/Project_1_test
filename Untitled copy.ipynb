{
 "cells": [
  {
   "cell_type": "code",
   "execution_count": 1,
   "id": "817d0c9d-32e3-4d93-a01d-7bfec87b8d03",
   "metadata": {},
   "outputs": [],
   "source": [
    "import pandas as pd \n",
    "import numpy as np \n",
    "import matplotlib.pyplot as plt \n",
    "import seaborn as sns \n",
    "import warnings \n",
    "warnings.filterwarnings('ignore')\n",
    "pd.set_option('display.max_rows', None)\n",
    "pd.set_option('display.max_columns', None)"
   ]
  },
  {
   "cell_type": "code",
   "execution_count": 2,
   "id": "4f05ed43-8db6-4fdd-be97-8d2b2abdfa2e",
   "metadata": {},
   "outputs": [],
   "source": [
    "df = pd.read_csv('/Users/jason/Desktop/Portfolio/Project_1/HouseData (1).csv')"
   ]
  },
  {
   "cell_type": "code",
   "execution_count": 3,
   "id": "79b9b70d-d85b-436a-8bb5-f9dbfdef8351",
   "metadata": {},
   "outputs": [],
   "source": [
    "df = df.drop(columns=['id'])"
   ]
  },
  {
   "cell_type": "code",
   "execution_count": 4,
   "id": "37aea16a-3010-4fdf-a420-d04e9caaa3d7",
   "metadata": {},
   "outputs": [
    {
     "data": {
      "text/html": [
       "<div>\n",
       "<style scoped>\n",
       "    .dataframe tbody tr th:only-of-type {\n",
       "        vertical-align: middle;\n",
       "    }\n",
       "\n",
       "    .dataframe tbody tr th {\n",
       "        vertical-align: top;\n",
       "    }\n",
       "\n",
       "    .dataframe thead th {\n",
       "        text-align: right;\n",
       "    }\n",
       "</style>\n",
       "<table border=\"1\" class=\"dataframe\">\n",
       "  <thead>\n",
       "    <tr style=\"text-align: right;\">\n",
       "      <th></th>\n",
       "      <th>date</th>\n",
       "      <th>price</th>\n",
       "      <th>bedrooms</th>\n",
       "      <th>bathrooms</th>\n",
       "      <th>sqft_living</th>\n",
       "      <th>sqft_lot</th>\n",
       "      <th>floors</th>\n",
       "      <th>waterfront</th>\n",
       "      <th>view</th>\n",
       "      <th>condition</th>\n",
       "      <th>grade</th>\n",
       "      <th>yr_built</th>\n",
       "      <th>zipcode</th>\n",
       "      <th>lat</th>\n",
       "      <th>long</th>\n",
       "    </tr>\n",
       "  </thead>\n",
       "  <tbody>\n",
       "    <tr>\n",
       "      <th>0</th>\n",
       "      <td>20141022T000000</td>\n",
       "      <td>1,495,000</td>\n",
       "      <td>4</td>\n",
       "      <td>3.25</td>\n",
       "      <td>3070</td>\n",
       "      <td>10375</td>\n",
       "      <td>2.0</td>\n",
       "      <td>No</td>\n",
       "      <td>No View</td>\n",
       "      <td>Average</td>\n",
       "      <td>10</td>\n",
       "      <td>1962</td>\n",
       "      <td>98004</td>\n",
       "      <td>47.5862</td>\n",
       "      <td>-122.198</td>\n",
       "    </tr>\n",
       "    <tr>\n",
       "      <th>1</th>\n",
       "      <td>20141126T000000</td>\n",
       "      <td>1,495,000</td>\n",
       "      <td>4</td>\n",
       "      <td>3.75</td>\n",
       "      <td>3770</td>\n",
       "      <td>4000</td>\n",
       "      <td>2.5</td>\n",
       "      <td>No</td>\n",
       "      <td>No View</td>\n",
       "      <td>Very Good</td>\n",
       "      <td>9</td>\n",
       "      <td>1916</td>\n",
       "      <td>98122</td>\n",
       "      <td>47.6157</td>\n",
       "      <td>-122.287</td>\n",
       "    </tr>\n",
       "    <tr>\n",
       "      <th>2</th>\n",
       "      <td>20150129T000000</td>\n",
       "      <td>1,490,000</td>\n",
       "      <td>4</td>\n",
       "      <td>2.50</td>\n",
       "      <td>2420</td>\n",
       "      <td>18480</td>\n",
       "      <td>1.0</td>\n",
       "      <td>No</td>\n",
       "      <td>No View</td>\n",
       "      <td>Good</td>\n",
       "      <td>9</td>\n",
       "      <td>1967</td>\n",
       "      <td>98004</td>\n",
       "      <td>47.6214</td>\n",
       "      <td>-122.227</td>\n",
       "    </tr>\n",
       "    <tr>\n",
       "      <th>3</th>\n",
       "      <td>20150331T000000</td>\n",
       "      <td>1,490,000</td>\n",
       "      <td>3</td>\n",
       "      <td>3.50</td>\n",
       "      <td>4560</td>\n",
       "      <td>14608</td>\n",
       "      <td>2.0</td>\n",
       "      <td>No</td>\n",
       "      <td>Average</td>\n",
       "      <td>Average</td>\n",
       "      <td>12</td>\n",
       "      <td>1990</td>\n",
       "      <td>98034</td>\n",
       "      <td>47.6995</td>\n",
       "      <td>-122.228</td>\n",
       "    </tr>\n",
       "    <tr>\n",
       "      <th>4</th>\n",
       "      <td>20140911T000000</td>\n",
       "      <td>1,490,000</td>\n",
       "      <td>5</td>\n",
       "      <td>3.50</td>\n",
       "      <td>3620</td>\n",
       "      <td>7821</td>\n",
       "      <td>2.0</td>\n",
       "      <td>No</td>\n",
       "      <td>Average</td>\n",
       "      <td>Average</td>\n",
       "      <td>10</td>\n",
       "      <td>1958</td>\n",
       "      <td>98040</td>\n",
       "      <td>47.5738</td>\n",
       "      <td>-122.215</td>\n",
       "    </tr>\n",
       "  </tbody>\n",
       "</table>\n",
       "</div>"
      ],
      "text/plain": [
       "              date         price  bedrooms  bathrooms  sqft_living  sqft_lot  \\\n",
       "0  20141022T000000    1,495,000          4       3.25         3070     10375   \n",
       "1  20141126T000000    1,495,000          4       3.75         3770      4000   \n",
       "2  20150129T000000    1,490,000          4       2.50         2420     18480   \n",
       "3  20150331T000000    1,490,000          3       3.50         4560     14608   \n",
       "4  20140911T000000    1,490,000          5       3.50         3620      7821   \n",
       "\n",
       "   floors waterfront     view  condition  grade  yr_built  zipcode      lat  \\\n",
       "0     2.0         No  No View    Average     10      1962    98004  47.5862   \n",
       "1     2.5         No  No View  Very Good      9      1916    98122  47.6157   \n",
       "2     1.0         No  No View       Good      9      1967    98004  47.6214   \n",
       "3     2.0         No  Average    Average     12      1990    98034  47.6995   \n",
       "4     2.0         No  Average    Average     10      1958    98040  47.5738   \n",
       "\n",
       "      long  \n",
       "0 -122.198  \n",
       "1 -122.287  \n",
       "2 -122.227  \n",
       "3 -122.228  \n",
       "4 -122.215  "
      ]
     },
     "execution_count": 4,
     "metadata": {},
     "output_type": "execute_result"
    }
   ],
   "source": [
    "df.head()"
   ]
  },
  {
   "cell_type": "code",
   "execution_count": 5,
   "id": "3c6db6f0-496a-4af6-97f3-98aa9eb5fef1",
   "metadata": {},
   "outputs": [],
   "source": [
    "df['date'] = pd.to_datetime(df['date'], format=\"%Y%m%dT%H%M%S\")\n",
    "df['date_nums'] = df['date'].apply(lambda x: x.timestamp())\n",
    "df = df.drop(columns=['date'])"
   ]
  },
  {
   "cell_type": "code",
   "execution_count": 6,
   "id": "78794aa2-9e08-4507-9f55-24205d60596c",
   "metadata": {},
   "outputs": [],
   "source": [
    "df['price'] = df['price'].str.replace(',', '').str.strip()\n",
    "df['price'] = pd.to_numeric(df['price'], errors='coerce')"
   ]
  },
  {
   "cell_type": "code",
   "execution_count": 7,
   "id": "83548f8d-5a5e-43a9-af97-f3a63e36efe3",
   "metadata": {},
   "outputs": [
    {
     "name": "stdout",
     "output_type": "stream",
     "text": [
      "<class 'pandas.core.frame.DataFrame'>\n",
      "RangeIndex: 21060 entries, 0 to 21059\n",
      "Data columns (total 15 columns):\n",
      " #   Column       Non-Null Count  Dtype  \n",
      "---  ------       --------------  -----  \n",
      " 0   price        21060 non-null  int64  \n",
      " 1   bedrooms     21060 non-null  int64  \n",
      " 2   bathrooms    21060 non-null  float64\n",
      " 3   sqft_living  21060 non-null  int64  \n",
      " 4   sqft_lot     21060 non-null  int64  \n",
      " 5   floors       21060 non-null  float64\n",
      " 6   waterfront   21060 non-null  object \n",
      " 7   view         21060 non-null  object \n",
      " 8   condition    21060 non-null  object \n",
      " 9   grade        21060 non-null  int64  \n",
      " 10  yr_built     21060 non-null  int64  \n",
      " 11  zipcode      21060 non-null  int64  \n",
      " 12  lat          21060 non-null  float64\n",
      " 13  long         21060 non-null  float64\n",
      " 14  date_nums    21060 non-null  float64\n",
      "dtypes: float64(5), int64(7), object(3)\n",
      "memory usage: 2.4+ MB\n"
     ]
    }
   ],
   "source": [
    "df.info()"
   ]
  },
  {
   "cell_type": "code",
   "execution_count": 8,
   "id": "029e547c-f025-4bae-a0f4-a564bfbfc3ff",
   "metadata": {},
   "outputs": [],
   "source": [
    "pd.set_option('display.max_rows', None)\n",
    "pd.set_option('display.max_columns', None)"
   ]
  },
  {
   "cell_type": "code",
   "execution_count": 9,
   "id": "1d0ca502-cfdc-4a39-8ec6-73365a8e83ac",
   "metadata": {},
   "outputs": [],
   "source": [
    "from sklearn.preprocessing import OneHotEncoder\n",
    "from sklearn.compose import ColumnTransformer\n",
    "\n",
    "ct = ColumnTransformer(transformers=[ ('encoder', OneHotEncoder(), [6, 7, 8,]) ], remainder='passthrough')\n",
    "\n",
    "df = ct.fit_transform(df)"
   ]
  },
  {
   "cell_type": "code",
   "execution_count": 20,
   "id": "844dd5d0-64e0-4227-9f95-b216353465e2",
   "metadata": {},
   "outputs": [
    {
     "ename": "NameError",
     "evalue": "name 'X' is not defined",
     "output_type": "error",
     "traceback": [
      "\u001b[0;31m---------------------------------------------------------------------------\u001b[0m",
      "\u001b[0;31mNameError\u001b[0m                                 Traceback (most recent call last)",
      "Cell \u001b[0;32mIn[20], line 1\u001b[0m\n\u001b[0;32m----> 1\u001b[0m X\n",
      "\u001b[0;31mNameError\u001b[0m: name 'X' is not defined"
     ]
    }
   ],
   "source": [
    "X"
   ]
  },
  {
   "cell_type": "code",
   "execution_count": null,
   "id": "610688cd-9773-4e35-9b18-f33c1c5ecaba",
   "metadata": {},
   "outputs": [],
   "source": []
  }
 ],
 "metadata": {
  "kernelspec": {
   "display_name": "Python 3 (ipykernel)",
   "language": "python",
   "name": "python3"
  },
  "language_info": {
   "codemirror_mode": {
    "name": "ipython",
    "version": 3
   },
   "file_extension": ".py",
   "mimetype": "text/x-python",
   "name": "python",
   "nbconvert_exporter": "python",
   "pygments_lexer": "ipython3",
   "version": "3.12.2"
  }
 },
 "nbformat": 4,
 "nbformat_minor": 5
}
